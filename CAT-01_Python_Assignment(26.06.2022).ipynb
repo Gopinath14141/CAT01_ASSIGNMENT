{
 "cells": [
  {
   "cell_type": "markdown",
   "metadata": {},
   "source": [
    "# Programs From 11-15:"
   ]
  },
  {
   "cell_type": "code",
   "execution_count": 10,
   "metadata": {},
   "outputs": [
    {
     "name": "stdout",
     "output_type": "stream",
     "text": [
      "*\n",
      "**\n",
      "***\n",
      "****\n",
      "*****\n"
     ]
    }
   ],
   "source": [
    "'''Write a function called show_stars(rows). If rows are 5, it should print the following:\n",
    "*\n",
    "**\n",
    "***\n",
    "****\n",
    "***** '''\n",
    "\n",
    "rows=5\n",
    "i=1\n",
    "while(i<=5):\n",
    "    print(\"*\"*i)\n",
    "    i=i+1"
   ]
  },
  {
   "cell_type": "code",
   "execution_count": 11,
   "metadata": {},
   "outputs": [
    {
     "name": "stdout",
     "output_type": "stream",
     "text": [
      "enter total elements of list:5\n",
      "enter the element one by one:2\n",
      "enter the element one by one:3\n",
      "enter the element one by one:5\n",
      "enter the element one by one:10\n",
      "enter the element one by one:15\n",
      "element which are divisible by 5 are:\n",
      "5\n",
      "10\n",
      "15\n"
     ]
    }
   ],
   "source": [
    "'''Iterate the given list of numbers and print only those numbers which are divisible by 5'''\n",
    "a=[]\n",
    "n=int(input(\"enter total elements of list:\"))\n",
    "for i in range(0,n):\n",
    "    x=int(input(\"enter the element one by one:\"))\n",
    "    a.append(x)\n",
    "print(\"element which are divisible by 5 are:\")\n",
    "for i in range(len(a)):\n",
    "    if(a[i]%5==0):\n",
    "        print(a[i])\n",
    "    else:\n",
    "        continue\n"
   ]
  },
  {
   "cell_type": "code",
   "execution_count": 16,
   "metadata": {},
   "outputs": [
    {
     "name": "stdout",
     "output_type": "stream",
     "text": [
      "hi is present 1 times in heirarchial\n"
     ]
    }
   ],
   "source": [
    "'''Write a program to find how many times substring “Hi” appears in the given string.'''\n",
    "\n",
    "a=\"heirarchial\"\n",
    "b='hi'\n",
    "print(\"hi is present\",a.count(b),\"times in heirarchial\")\n"
   ]
  },
  {
   "cell_type": "code",
   "execution_count": 17,
   "metadata": {},
   "outputs": [
    {
     "name": "stdout",
     "output_type": "stream",
     "text": [
      "1\n",
      "12\n",
      "123\n",
      "1234\n",
      "12345\n"
     ]
    }
   ],
   "source": [
    "'''Print the following pattern\n",
    "1 \n",
    "2 2 \n",
    "3 3 3 \n",
    "4 4 4 4 \n",
    "5 5 5 5 5\n",
    "'''\n",
    "n=5\n",
    "for i in range(1,n+1):\n",
    "    for j in range(1, i+1):\n",
    "        print(j, end=\"\")\n",
    "    print()"
   ]
  },
  {
   "cell_type": "markdown",
   "metadata": {},
   "source": [
    "# List exercises:"
   ]
  },
  {
   "cell_type": "code",
   "execution_count": 18,
   "metadata": {},
   "outputs": [
    {
     "data": {
      "text/plain": [
       "[5, 2, 3, 4, 1]"
      ]
     },
     "execution_count": 18,
     "metadata": {},
     "output_type": "execute_result"
    }
   ],
   "source": [
    "'''Python program to interchange first and last elements in a list'''\n",
    "l=[1,2,3,4,5]\n",
    "x=l.pop()\n",
    "y=l[0]\n",
    "del l[0]\n",
    "l.append(y)\n",
    "l.insert(0,x)\n",
    "l"
   ]
  },
  {
   "cell_type": "code",
   "execution_count": 21,
   "metadata": {},
   "outputs": [
    {
     "data": {
      "text/plain": [
       "[1, 2, 4, 3, 5]"
      ]
     },
     "execution_count": 21,
     "metadata": {},
     "output_type": "execute_result"
    }
   ],
   "source": [
    "'''Python program to swap two elements in a list'''\n",
    "l=[1,2,3,4,5]\n",
    "l[2],l[3]=l[3],l[2] # third and fourth position elements are swapped\n",
    "l"
   ]
  },
  {
   "cell_type": "code",
   "execution_count": 23,
   "metadata": {},
   "outputs": [
    {
     "name": "stdout",
     "output_type": "stream",
     "text": [
      "length of list is: 5\n"
     ]
    }
   ],
   "source": [
    "'''Python | Ways to find length of list'''\n",
    "l=[1,2,3,4,5]\n",
    "print(\"length of list is:\",len(l))"
   ]
  },
  {
   "cell_type": "code",
   "execution_count": 25,
   "metadata": {},
   "outputs": [
    {
     "data": {
      "text/plain": [
       "5"
      ]
     },
     "execution_count": 25,
     "metadata": {},
     "output_type": "execute_result"
    }
   ],
   "source": [
    "'''Maximum of two numbers in Python'''\n",
    "l=[4,5]\n",
    "max(l)"
   ]
  },
  {
   "cell_type": "code",
   "execution_count": 26,
   "metadata": {},
   "outputs": [
    {
     "data": {
      "text/plain": [
       "1"
      ]
     },
     "execution_count": 26,
     "metadata": {},
     "output_type": "execute_result"
    }
   ],
   "source": [
    "'''Minimum of two numbers in Python'''\n",
    "l=[20,1]\n",
    "min(l)"
   ]
  },
  {
   "cell_type": "markdown",
   "metadata": {},
   "source": [
    "# Tuples Exercises:"
   ]
  },
  {
   "cell_type": "code",
   "execution_count": 27,
   "metadata": {},
   "outputs": [
    {
     "name": "stdout",
     "output_type": "stream",
     "text": [
      "max= 5\n",
      "min= 1\n"
     ]
    }
   ],
   "source": [
    "'''Python program to Find the size of a Tuple'''\n",
    "t=(1,2,3,4,5)\n",
    "print(\"max=\",max(t))\n",
    "print(\"min=\",min(t))"
   ]
  },
  {
   "cell_type": "code",
   "execution_count": 41,
   "metadata": {},
   "outputs": [
    {
     "data": {
      "text/plain": [
       "5"
      ]
     },
     "execution_count": 41,
     "metadata": {},
     "output_type": "execute_result"
    }
   ],
   "source": [
    "#finding size of tuple\n",
    "t=1,2,3,4,'a'\n",
    "len(t)\n"
   ]
  },
  {
   "cell_type": "code",
   "execution_count": 43,
   "metadata": {},
   "outputs": [
    {
     "ename": "TypeError",
     "evalue": "'int' object is not callable",
     "output_type": "error",
     "traceback": [
      "\u001b[1;31m---------------------------------------------------------------------------\u001b[0m",
      "\u001b[1;31mTypeError\u001b[0m                                 Traceback (most recent call last)",
      "\u001b[1;32m<ipython-input-43-2a208e41f427>\u001b[0m in \u001b[0;36m<module>\u001b[1;34m()\u001b[0m\n\u001b[0;32m      2\u001b[0m \u001b[1;33m\u001b[0m\u001b[0m\n\u001b[0;32m      3\u001b[0m \u001b[0mt\u001b[0m\u001b[1;33m=\u001b[0m\u001b[1;36m1\u001b[0m\u001b[1;33m,\u001b[0m\u001b[1;36m2\u001b[0m\u001b[1;33m,\u001b[0m\u001b[1;36m3\u001b[0m\u001b[1;33m,\u001b[0m\u001b[1;36m4\u001b[0m\u001b[1;33m,\u001b[0m\u001b[1;36m5\u001b[0m\u001b[1;33m\u001b[0m\u001b[0m\n\u001b[1;32m----> 4\u001b[1;33m \u001b[0mprint\u001b[0m\u001b[1;33m(\u001b[0m\u001b[1;34m\"sum=\"\u001b[0m\u001b[1;33m,\u001b[0m\u001b[0msum\u001b[0m\u001b[1;33m(\u001b[0m\u001b[0mt\u001b[0m\u001b[1;33m)\u001b[0m\u001b[1;33m)\u001b[0m\u001b[1;33m\u001b[0m\u001b[0m\n\u001b[0m",
      "\u001b[1;31mTypeError\u001b[0m: 'int' object is not callable"
     ]
    }
   ],
   "source": [
    "#sum of elements of tuple\n",
    "\n",
    "t=1,2,3,4,5\n",
    "print(\"sum=\",sum(t))"
   ]
  },
  {
   "cell_type": "markdown",
   "metadata": {},
   "source": [
    "# String Exercises:"
   ]
  },
  {
   "cell_type": "code",
   "execution_count": 46,
   "metadata": {},
   "outputs": [
    {
     "name": "stdout",
     "output_type": "stream",
     "text": [
      "Enter string:TUPUT\n",
      "The string is a palindrome\n"
     ]
    }
   ],
   "source": [
    "'''Python program to check whether the string is Symmetrical or Palindrome'''\n",
    "string=input(\"Enter string:\")\n",
    "if(string==string[::-1]):\n",
    "      print(\"The string is a palindrome\")\n",
    "else:\n",
    "      print(\"The string is not a palindrome\")"
   ]
  },
  {
   "cell_type": "code",
   "execution_count": 45,
   "metadata": {},
   "outputs": [
    {
     "name": "stdout",
     "output_type": "stream",
     "text": [
      "Enter string:Hello\n",
      "reversed string is: olleH\n"
     ]
    }
   ],
   "source": [
    "'''Reverse words in a given String in Python'''\n",
    "string=input(\"Enter string:\")\n",
    "print(\"reversed string is:\",string[::-1])"
   ]
  },
  {
   "cell_type": "code",
   "execution_count": 47,
   "metadata": {},
   "outputs": [
    {
     "name": "stdout",
     "output_type": "stream",
     "text": [
      "enter string:Hi\n",
      "enter index to be removed:1\n"
     ]
    },
    {
     "data": {
      "text/plain": [
       "'H'"
      ]
     },
     "execution_count": 47,
     "metadata": {},
     "output_type": "execute_result"
    }
   ],
   "source": [
    "'''Ways to remove i’th character from string in Python'''\n",
    "def remove(str,i):\n",
    "    str1=str[:i]\n",
    "    str2=str[i+1:]\n",
    "    return str1+str2\n",
    "str=input(\"enter string:\")\n",
    "i=int(input(\"enter index to be removed:\"))\n",
    "remove(str,i)"
   ]
  },
  {
   "cell_type": "markdown",
   "metadata": {},
   "source": [
    "# Set Exercises:"
   ]
  },
  {
   "cell_type": "code",
   "execution_count": 50,
   "metadata": {},
   "outputs": [
    {
     "name": "stdout",
     "output_type": "stream",
     "text": [
      "length of set is: 5\n"
     ]
    }
   ],
   "source": [
    "'''Find the size of a Set in Python'''\n",
    "s={3,5,'a',100,'abc'}\n",
    "print(\"length of set is:\",len(s))"
   ]
  },
  {
   "cell_type": "code",
   "execution_count": 52,
   "metadata": {},
   "outputs": [
    {
     "name": "stdout",
     "output_type": "stream",
     "text": [
      "the set elements are:\n"
     ]
    },
    {
     "data": {
      "text/plain": [
       "{100, 3, 5, 'a', 'abc'}"
      ]
     },
     "execution_count": 52,
     "metadata": {},
     "output_type": "execute_result"
    }
   ],
   "source": [
    "'''Iterate over a set in Python'''\n",
    "s={3,5,'a',100,'abc'}\n",
    "print(\"the set elements are:\")\n",
    "s"
   ]
  },
  {
   "cell_type": "markdown",
   "metadata": {},
   "source": [
    "# Dictionary Exercises:"
   ]
  },
  {
   "cell_type": "code",
   "execution_count": 53,
   "metadata": {},
   "outputs": [
    {
     "name": "stdout",
     "output_type": "stream",
     "text": [
      "{1: 1, 3: 4, 2: 9}\n"
     ]
    }
   ],
   "source": [
    "'''Python | Sort Python Dictionaries by Key or Value'''\n",
    "dict1 = {1: 1, 2: 9, 3: 4}\n",
    "sorted_values = sorted(dict1.values()) \n",
    "sorted_dict = {}\n",
    "\n",
    "for i in sorted_values:\n",
    "    for k in dict1.keys():\n",
    "        if dict1[k] == i:\n",
    "            sorted_dict[k] = dict1[k]\n",
    "            break\n",
    "\n",
    "print(sorted_dict)"
   ]
  },
  {
   "cell_type": "code",
   "execution_count": 54,
   "metadata": {},
   "outputs": [
    {
     "name": "stdout",
     "output_type": "stream",
     "text": [
      "The dictionary is :\n",
      "{(4, 3, 2): 5, (5, 4, 11): -2}\n"
     ]
    }
   ],
   "source": [
    "'''Python dictionary with keys having multiple inputs'''\n",
    "my_dict = {}\n",
    "\n",
    "a, b, c = 4, 3, 2\n",
    "my_dict[a, b, c] = a + b - c\n",
    "\n",
    "a, b, c = 5, 4, 11\n",
    "my_dict[a, b, c] = a + b - c\n",
    "\n",
    "print(\"The dictionary is :\")\n",
    "print(my_dict)"
   ]
  },
  {
   "cell_type": "markdown",
   "metadata": {},
   "source": [
    "# Function Exercises:"
   ]
  },
  {
   "cell_type": "code",
   "execution_count": 55,
   "metadata": {},
   "outputs": [
    {
     "data": {
      "text/plain": [
       "<Signature (a, b)>"
      ]
     },
     "execution_count": 55,
     "metadata": {},
     "output_type": "execute_result"
    }
   ],
   "source": [
    "'''How to get list of parameters name from a function in Python?'''\n",
    "def func(a,b):\n",
    "    return a/b\n",
    "import inspect   #by importing inspect module and using signature function\n",
    "inspect.signature(func)"
   ]
  },
  {
   "cell_type": "code",
   "execution_count": 60,
   "metadata": {},
   "outputs": [
    {
     "name": "stdout",
     "output_type": "stream",
     "text": [
      "8\n"
     ]
    }
   ],
   "source": [
    "'''How to Print Multiple Arguments in Python?'''\n",
    "def power(base, p):\n",
    "    if p == 0:  # base condition\n",
    "        return 1\n",
    "    else:\n",
    "        return (base*power(base,p-1)) \n",
    " \n",
    "base=2\n",
    "p=3\n",
    "\n",
    " \n",
    "print(power(base,p))"
   ]
  },
  {
   "cell_type": "markdown",
   "metadata": {},
   "source": [
    "# Matrix Exercises:"
   ]
  },
  {
   "cell_type": "code",
   "execution_count": 61,
   "metadata": {},
   "outputs": [
    {
     "name": "stdout",
     "output_type": "stream",
     "text": [
      "ADDED MATRIX IS:\n",
      "[[11, 13, 15], [17, 19, 21], [23, 25, 27]]\n",
      "SUBTRACTED MATRIX IS:\n",
      "[[-9, -9, -9], [-9, -9, -9], [-9, -9, -9]]\n"
     ]
    }
   ],
   "source": [
    "'''Python – Assigning Subsequent Rows to Matrix first row elements'''\n",
    "#ADDITION AND SUBTRACTTION OF MATRICES\n",
    "A = [[1,2,3],\n",
    "    [4,5,6],\n",
    "    [7,8,9]]\n",
    "\n",
    "B = [[10,11,12],\n",
    "    [13,14,15],\n",
    "    [16,17,18]]\n",
    "C=[[2,2,2],[2,2,2],[2,2,2]]\n",
    "D=[[3,3,3],[3,3,3],[3,3,3]]\n",
    "for i in range(len(A)):\n",
    "    for j in range(len(B)):\n",
    "        C[i][j]=A[i][j]+B[i][j]\n",
    "        D[i][j]=A[i][j]-B[i][j]\n",
    "print(\"ADDED MATRIX IS:\")\n",
    "print(C)\n",
    "print(\"SUBTRACTED MATRIX IS:\")\n",
    "print(D)"
   ]
  },
  {
   "cell_type": "code",
   "execution_count": null,
   "metadata": {},
   "outputs": [],
   "source": []
  },
  {
   "cell_type": "code",
   "execution_count": null,
   "metadata": {},
   "outputs": [],
   "source": []
  }
 ],
 "metadata": {
  "kernelspec": {
   "display_name": "Python 3",
   "language": "python",
   "name": "python3"
  },
  "language_info": {
   "codemirror_mode": {
    "name": "ipython",
    "version": 3
   },
   "file_extension": ".py",
   "mimetype": "text/x-python",
   "name": "python",
   "nbconvert_exporter": "python",
   "pygments_lexer": "ipython3",
   "version": "3.7.0"
  }
 },
 "nbformat": 4,
 "nbformat_minor": 2
}
